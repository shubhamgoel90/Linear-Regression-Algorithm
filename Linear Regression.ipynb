{
 "cells": [
  {
   "cell_type": "markdown",
   "metadata": {},
   "source": [
    "### Dataset Preparation \n",
    "Generating a Random Dataset (X-One Feature) and Y-Predicted value"
   ]
  },
  {
   "cell_type": "code",
   "execution_count": 3,
   "metadata": {},
   "outputs": [],
   "source": [
    "import numpy as np\n",
    "import matplotlib.pyplot as plt"
   ]
  },
  {
   "cell_type": "code",
   "execution_count": 25,
   "metadata": {},
   "outputs": [],
   "source": [
    "X = np.random.randn(100)"
   ]
  },
  {
   "cell_type": "code",
   "execution_count": 26,
   "metadata": {},
   "outputs": [],
   "source": [
    "X = np.random.randn(100)\n",
    "\n",
    "e = np.random.randn(100)\n",
    "Y = 2*X + 5 + 0.3*e\n",
    "\n",
    "plt.scatter(X,Y)\n",
    "plt.xlabel(\"House Area\")\n",
    "plt.ylabel(\"Price\")\n",
    "plt.show()"
   ]
  },
  {
   "cell_type": "code",
   "execution_count": 28,
   "metadata": {},
   "outputs": [
    {
     "data": {
      "image/png": "[encoded data removed]",
      "text/plain": [
       "<Figure size 432x288 with 1 Axes>"
      ]
     },
     "metadata": {
      "needs_background": "light"
     },
     "output_type": "display_data"
    }
   ],
   "source": [
    "plt.scatter(X,Y)\n",
    "plt.xlabel(\"House Area\")\n",
    "plt.ylabel(\"Price\")\n",
    "plt.show()"
   ]
  },
  {
   "cell_type": "code",
   "execution_count": 31,
   "metadata": {},
   "outputs": [],
   "source": [
    "def grad(X,Y,theta):\n",
    "    \n",
    "    m = X.shape[0]\n",
    "    grad = np.zeros((2,))\n",
    "    \n",
    "    for i in range(m):\n",
    "        yi = theta[1]*X[i] + theta[0]\n",
    "        grad[0] += 2*(yi - Y[i])\n",
    "        grad[1] += 2*(yi - Y[i])*X[i]\n",
    "    \n",
    "    return grad\n",
    "    "
   ]
  },
  {
   "cell_type": "code",
   "execution_count": 32,
   "metadata": {},
   "outputs": [],
   "source": [
    "def total_error(X,Y,theta):\n",
    "    m = X.shape[0]\n",
    "    e = 0 \n",
    "    for i in range(m):\n",
    "        yi = theta[1]*X[i] + theta[0]\n",
    "        e += (yi-Y[i])**2\n",
    "    \n",
    "    return e"
   ]
  },
  {
   "cell_type": "code",
   "execution_count": 53,
   "metadata": {},
   "outputs": [],
   "source": [
    "\n",
    "def gradientDescent(X,Y,learning_rate=0.001,max_steps=80):\n",
    "    theta = np.zeros((2,))\n",
    "    error_list = [] \n",
    "    theta_list = []\n",
    "    \n",
    "    for i in range(max_steps):\n",
    "        #update theta\n",
    "        g = grad(X,Y,theta) \n",
    "        theta[0] = theta[0] - learning_rate*g[0]\n",
    "        theta[1] = theta[1] - learning_rate*g[1]\n",
    "        error = total_error(X,Y,theta)\n",
    "        error_list.append(error)\n",
    "        theta_list.append(theta)\n",
    "        \n",
    "    return theta,theta_list,error_list\n",
    "    "
   ]
  },
  {
   "cell_type": "code",
   "execution_count": 54,
   "metadata": {},
   "outputs": [],
   "source": [
    "theta,theta_list,error_list = gradientDescent(X,Y)"
   ]
  },
  {
   "cell_type": "code",
   "execution_count": 55,
   "metadata": {},
   "outputs": [
    {
     "data": {
      "image/png": "[encoded data removed]",
      "text/plain": [
       "<Figure size 432x288 with 1 Axes>"
      ]
     },
     "metadata": {
      "needs_background": "light"
     },
     "output_type": "display_data"
    }
   ],
   "source": [
    "plt.plot(error_list)\n",
    "plt.show()"
   ]
  },
  {
   "cell_type": "code",
   "execution_count": 56,
   "metadata": {},
   "outputs": [
    {
     "data": {
      "text/plain": [
       "array([5.00741869, 1.99263286])"
      ]
     },
     "execution_count": 56,
     "metadata": {},
     "output_type": "execute_result"
    }
   ],
   "source": [
    "theta"
   ]
  },
  {
   "cell_type": "code",
   "execution_count": 57,
   "metadata": {},
   "outputs": [],
   "source": [
    "def predict(X_Test,theta):\n",
    "    return theta[0] + theta[1]*X_Test"
   ]
  },
  {
   "cell_type": "code",
   "execution_count": 74,
   "metadata": {},
   "outputs": [],
   "source": [
    "X_Test = np.arange(-3,5)"
   ]
  },
  {
   "cell_type": "code",
   "execution_count": 75,
   "metadata": {},
   "outputs": [
    {
     "name": "stdout",
     "output_type": "stream",
     "text": [
      "[-3 -2 -1  0  1  2  3  4]\n",
      "[-0.97047988  1.02215298  3.01478583  5.00741869  7.00005155  8.9926844\n",
      " 10.98531726 12.97795012]\n"
     ]
    }
   ],
   "source": [
    "print(X_Test)\n",
    "Y_Pred = predict(X_Test,theta)\n",
    "print(Y_Pred)"
   ]
  },
  {
   "cell_type": "code",
   "execution_count": 78,
   "metadata": {},
   "outputs": [
    {
     "data": {
      "image/png": "[encoded data removed]",
      "text/plain": [
       "<Figure size 432x288 with 1 Axes>"
      ]
     },
     "metadata": {
      "needs_background": "light"
     },
     "output_type": "display_data"
    }
   ],
   "source": [
    "plt.scatter(X,Y)\n",
    "plt.plot(X_Test,Y_Pred,color='orange')\n",
    "plt.show()"
   ]
  },
  {
   "cell_type": "code",
   "execution_count": null,
   "metadata": {},
   "outputs": [],
   "source": []
  },
  {
   "cell_type": "code",
   "execution_count": null,
   "metadata": {},
   "outputs": [],
   "source": []
  }
 ],
 "metadata": {
  "kernelspec": {
   "display_name": "Python 3",
   "language": "python",
   "name": "python3"
  },
  "language_info": {
   "codemirror_mode": {
    "name": "ipython",
    "version": 3
   },
   "file_extension": ".py",
   "mimetype": "text/x-python",
   "name": "python",
   "nbconvert_exporter": "python",
   "pygments_lexer": "ipython3",
   "version": "3.7.4"
  }
 },
 "nbformat": 4,
 "nbformat_minor": 2
}
